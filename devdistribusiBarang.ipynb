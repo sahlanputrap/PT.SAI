{
 "cells": [
  {
   "cell_type": "code",
   "execution_count": 67,
   "metadata": {},
   "outputs": [
    {
     "name": "stdout",
     "output_type": "stream",
     "text": [
      "     itemCode dscription     codeBars  mnfctrCode salesItem purchItem  \\\n",
      "0     PW01001    PROBABY          NaN         0.0         N         N   \n",
      "1     PW01002    PROBABY          NaN         0.0         N         N   \n",
      "2     PW01003    PROBABY          NaN         0.0         N         N   \n",
      "3     PW02001    PROBABY          NaN         0.0         N         N   \n",
      "4     PW02002    PROBABY          NaN         0.0         N         N   \n",
      "...       ...        ...          ...         ...       ...       ...   \n",
      "1222  YR40006      Evany  ESC 871396          0.0         Y         Y   \n",
      "1223  YR40007      Evany  ESC 871393          0.0         Y         Y   \n",
      "1224  YR40008      Evany  ESC 871394          0.0         Y         Y   \n",
      "1225  YR41001      Evany   ETB871267          0.0         Y         Y   \n",
      "1226  YR42001  CAP POHON    CTO376390         0.0         Y         Y   \n",
      "\n",
      "     returnItem  classCode  uom1  uom2  ...  objType      auditDate  \\\n",
      "0             Y          2     1    42  ...     2023  11/14/23 0:00   \n",
      "1             Y          2     1    16  ...     2023  11/14/23 0:00   \n",
      "2             Y          2     1    24  ...     2023  11/14/23 0:00   \n",
      "3             Y          2     1    42  ...     2023  11/14/23 0:00   \n",
      "4             Y          2     1    16  ...     2023  11/14/23 0:00   \n",
      "...         ...        ...   ...   ...  ...      ...            ...   \n",
      "1222          Y          2     1    12  ...     2023    2/3/23 0:00   \n",
      "1223          Y          2     1    12  ...     2023    2/3/23 0:00   \n",
      "1224          Y          2     1    12  ...     2023    2/3/23 0:00   \n",
      "1225          Y          2     1     4  ...     2023    2/3/23 0:00   \n",
      "1226          Y          2     1    12  ...     2023    5/5/23 0:00   \n",
      "\n",
      "      auditUser  backupSts  uom4  isFocus  isTM  isNPL  longdesc forCod  \n",
      "0         admin          Y  4200      NaN     N      N                N  \n",
      "1         admin          Y  1600      NaN     N      N                N  \n",
      "2         admin          Y  2400      NaN     N      N                N  \n",
      "3         admin          Y  4200      NaN     N      N                N  \n",
      "4         admin          Y  1600      NaN     N      N                N  \n",
      "...         ...        ...   ...      ...   ...    ...       ...    ...  \n",
      "1222      admin          Y  1200      NaN     N      N                N  \n",
      "1223      admin          Y  1200      NaN     N      N                N  \n",
      "1224      admin          Y  1200      NaN     N      N                N  \n",
      "1225      admin          Y   400      NaN     N      N                N  \n",
      "1226      admin          Y  1200      NaN     N      N                N  \n",
      "\n",
      "[1227 rows x 33 columns]\n"
     ]
    }
   ],
   "source": [
    "import pandas as pd\n",
    "import numpy as np\n",
    "import nltk\n",
    "import string\n",
    "from sklearn import model_selection \n",
    "from sklearn.feature_extraction.text import CountVectorizer\n",
    "from sklearn.feature_extraction.text import TfidfTransformer\n",
    "from sklearn.model_selection import train_test_split\n",
    "from sklearn.naive_bayes import MultinomialNB\n",
    "from sklearn.neighbors import KNeighborsClassifier\n",
    "from sklearn.tree import DecisionTreeClassifier\n",
    "from sklearn.ensemble import RandomForestClassifier\n",
    "from sklearn.linear_model import LogisticRegression\n",
    "from sklearn.svm import SVC\n",
    "from sklearn.neural_network import MLPClassifier\n",
    "from sklearn.metrics import classification_report , accuracy_score , confusion_matrix\n",
    "import seaborn as sns\n",
    "import matplotlib.pyplot as plt\n",
    "\n",
    "data_source = 'dataDistribusi.csv'\n",
    "teks = pd.read_csv(data_source, header=0, delimiter=\",\")\n",
    "df = pd.DataFrame(teks)\n",
    "\n",
    "\n",
    "print(df)\n"
   ]
  },
  {
   "cell_type": "code",
   "execution_count": 68,
   "metadata": {},
   "outputs": [
    {
     "data": {
      "text/plain": [
       "itemCode         0\n",
       "dscription       0\n",
       "codeBars       260\n",
       "mnfctrCode      22\n",
       "salesItem        0\n",
       "purchItem        0\n",
       "returnItem       0\n",
       "classCode        0\n",
       "uom1             0\n",
       "uom2             0\n",
       "uom3             0\n",
       "length           0\n",
       "length1          0\n",
       "width            0\n",
       "width1           0\n",
       "height           0\n",
       "height1          0\n",
       "weight1          0\n",
       "weight2          0\n",
       "lstSalDate       0\n",
       "lstPurDate       0\n",
       "regDate          0\n",
       "locked           0\n",
       "objType          0\n",
       "auditDate        0\n",
       "auditUser        0\n",
       "backupSts        0\n",
       "uom4             0\n",
       "isFocus       1227\n",
       "isTM             0\n",
       "isNPL            0\n",
       "longdesc         0\n",
       "forCod           0\n",
       "dtype: int64"
      ]
     },
     "execution_count": 68,
     "metadata": {},
     "output_type": "execute_result"
    }
   ],
   "source": [
    "df.isna().sum()"
   ]
  },
  {
   "cell_type": "code",
   "execution_count": 69,
   "metadata": {},
   "outputs": [
    {
     "name": "stdout",
     "output_type": "stream",
     "text": [
      "     itemCode  uom1  uom2  uom3  lstSalDate  lstPurDate     regDate  objType  \\\n",
      "0     PW01001     1    42     1  11/14/2023  11/14/2023  11/14/2023     2023   \n",
      "1     PW01002     1    16     1  11/14/2023  11/14/2023  11/14/2023     2023   \n",
      "2     PW01003     1    24     1  11/14/2023  11/14/2023  11/14/2023     2023   \n",
      "3     PW02001     1    42     1  11/14/2023  11/14/2023  11/14/2023     2023   \n",
      "4     PW02002     1    16     1  11/14/2023  11/14/2023  11/14/2023     2023   \n",
      "...       ...   ...   ...   ...         ...         ...         ...      ...   \n",
      "1222  YR40006     1    12     1    2/3/2023    2/3/2023    2/3/2023     2023   \n",
      "1223  YR40007     1    12     1    2/3/2023    2/3/2023    2/3/2023     2023   \n",
      "1224  YR40008     1    12     1    2/3/2023    2/3/2023    2/3/2023     2023   \n",
      "1225  YR41001     1     4     1    2/3/2023    2/3/2023    2/3/2023     2023   \n",
      "1226  YR42001     1    12     1    5/5/2023    5/5/2023    5/5/2023     2023   \n",
      "\n",
      "      uom4  \n",
      "0     4200  \n",
      "1     1600  \n",
      "2     2400  \n",
      "3     4200  \n",
      "4     1600  \n",
      "...    ...  \n",
      "1222  1200  \n",
      "1223  1200  \n",
      "1224  1200  \n",
      "1225   400  \n",
      "1226  1200  \n",
      "\n",
      "[1227 rows x 9 columns]\n",
      "0       N\n",
      "1       N\n",
      "2       N\n",
      "3       N\n",
      "4       N\n",
      "       ..\n",
      "1222    Y\n",
      "1223    Y\n",
      "1224    Y\n",
      "1225    Y\n",
      "1226    Y\n",
      "Name: purchItem, Length: 1227, dtype: object\n"
     ]
    }
   ],
   "source": [
    "xTarget = df.drop(['dscription', 'codeBars', 'mnfctrCode', 'salesItem', 'purchItem', 'returnItem', 'classCode', \n",
    "                   'length', 'length1', 'width', 'width1', 'height', 'height1', 'weight1', 'weight2',\n",
    "                   'locked', 'auditDate', 'auditUser', 'backupSts', 'isFocus', 'isTM', 'isNPL', \n",
    "                   'longdesc', 'forCod'], axis=1)\n",
    "print(xTarget)\n",
    "\n",
    "yTarget = df['purchItem']\n",
    "print(yTarget)"
   ]
  },
  {
   "cell_type": "code",
   "execution_count": 70,
   "metadata": {},
   "outputs": [
    {
     "name": "stdout",
     "output_type": "stream",
     "text": [
      "(1227, 1)\n",
      "(1227, 9)\n"
     ]
    },
    {
     "data": {
      "text/plain": [
       "array([[ 494.,    0.,   19., ...,   10.,    0.,   19.],\n",
       "       [ 495.,    0.,   10., ...,   10.,    0.,   10.],\n",
       "       [ 496.,    0.,   13., ...,   10.,    0.,   13.],\n",
       "       ...,\n",
       "       [1224.,    0.,    8., ...,   24.,    0.,    8.],\n",
       "       [1225.,    0.,    3., ...,   24.,    0.,    3.],\n",
       "       [1226.,    0.,    8., ...,   40.,    0.,    8.]])"
      ]
     },
     "execution_count": 70,
     "metadata": {},
     "output_type": "execute_result"
    }
   ],
   "source": [
    "from sklearn.preprocessing import LabelBinarizer, OrdinalEncoder\n",
    "encoder = LabelBinarizer()\n",
    "Y = encoder.fit_transform(yTarget)\n",
    "print(Y.shape)\n",
    "\n",
    "trfidf_transformer = OrdinalEncoder()\n",
    "X = trfidf_transformer.fit_transform(xTarget)\n",
    "print(X.shape)\n",
    "X"
   ]
  },
  {
   "cell_type": "code",
   "execution_count": 71,
   "metadata": {},
   "outputs": [],
   "source": [
    "X_train, X_test, y_train, y_test = train_test_split(X, Y, test_size = 0.3, random_state = 1)"
   ]
  },
  {
   "cell_type": "code",
   "execution_count": 72,
   "metadata": {},
   "outputs": [
    {
     "name": "stdout",
     "output_type": "stream",
     "text": [
      "0.983739837398374\n"
     ]
    }
   ],
   "source": [
    "import pickle\n",
    "model = KNeighborsClassifier().fit(X_train, np.ravel(y_train, order='C'))\n",
    "prediction = model.predict(X_test)\n",
    "accuracies = accuracy_score(y_test, prediction)\n",
    "print(accuracies)\n",
    "\n",
    "filename = './stokBarang.pkl'\n",
    "pickle.dump(model, open(filename, 'wb'))"
   ]
  }
 ],
 "metadata": {
  "kernelspec": {
   "display_name": "Python 3",
   "language": "python",
   "name": "python3"
  },
  "language_info": {
   "codemirror_mode": {
    "name": "ipython",
    "version": 3
   },
   "file_extension": ".py",
   "mimetype": "text/x-python",
   "name": "python",
   "nbconvert_exporter": "python",
   "pygments_lexer": "ipython3",
   "version": "3.11.9"
  }
 },
 "nbformat": 4,
 "nbformat_minor": 2
}
